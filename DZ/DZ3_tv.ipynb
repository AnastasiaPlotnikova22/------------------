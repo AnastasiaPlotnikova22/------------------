{
 "cells": [
  {
   "cell_type": "markdown",
   "metadata": {},
   "source": [
    "# Урок 3. EDA (exploratory data analysis) или Разведочный анализ"
   ]
  },
  {
   "cell_type": "markdown",
   "metadata": {},
   "source": [
    "## 1. Даны значения зарплат из выборки выпускников: 100, 80, 75, 77, 89, 33, 45, 25, 65, 17, 30, 24, 57, 55, 70, 75, 65, 84, 90, 150. Посчитать (желательно без использования статистических методов наподобие std, var, mean) среднее арифметическое, среднее квадратичное отклонение, смещенную и несмещенную оценки дисперсий для данной выборки."
   ]
  },
  {
   "cell_type": "code",
   "execution_count": 1,
   "metadata": {},
   "outputs": [
    {
     "name": "stdout",
     "output_type": "stream",
     "text": [
      "Requirement already satisfied: prophet in c:\\python\\lib\\site-packages (1.1.5)\n",
      "Requirement already satisfied: cmdstanpy>=1.0.4 in c:\\python\\lib\\site-packages (from prophet) (1.2.3)\n",
      "Requirement already satisfied: numpy>=1.15.4 in c:\\python\\lib\\site-packages (from prophet) (1.26.4)\n",
      "Requirement already satisfied: matplotlib>=2.0.0 in c:\\python\\lib\\site-packages (from prophet) (3.9.0)\n",
      "Requirement already satisfied: pandas>=1.0.4 in c:\\python\\lib\\site-packages (from prophet) (2.2.2)\n",
      "Requirement already satisfied: holidays>=0.25 in c:\\python\\lib\\site-packages (from prophet) (0.50)\n",
      "Requirement already satisfied: tqdm>=4.36.1 in c:\\python\\lib\\site-packages (from prophet) (4.66.4)\n",
      "Requirement already satisfied: importlib-resources in c:\\python\\lib\\site-packages (from prophet) (6.4.0)\n",
      "Requirement already satisfied: stanio<2.0.0,>=0.4.0 in c:\\python\\lib\\site-packages (from cmdstanpy>=1.0.4->prophet) (0.5.0)\n",
      "Requirement already satisfied: python-dateutil in c:\\users\\user\\appdata\\roaming\\python\\python312\\site-packages (from holidays>=0.25->prophet) (2.9.0.post0)\n",
      "Requirement already satisfied: contourpy>=1.0.1 in c:\\python\\lib\\site-packages (from matplotlib>=2.0.0->prophet) (1.2.1)\n",
      "Requirement already satisfied: cycler>=0.10 in c:\\python\\lib\\site-packages (from matplotlib>=2.0.0->prophet) (0.12.1)\n",
      "Requirement already satisfied: fonttools>=4.22.0 in c:\\python\\lib\\site-packages (from matplotlib>=2.0.0->prophet) (4.53.0)\n",
      "Requirement already satisfied: kiwisolver>=1.3.1 in c:\\python\\lib\\site-packages (from matplotlib>=2.0.0->prophet) (1.4.5)\n",
      "Requirement already satisfied: packaging>=20.0 in c:\\users\\user\\appdata\\roaming\\python\\python312\\site-packages (from matplotlib>=2.0.0->prophet) (24.1)\n",
      "Requirement already satisfied: pillow>=8 in c:\\python\\lib\\site-packages (from matplotlib>=2.0.0->prophet) (10.3.0)\n",
      "Requirement already satisfied: pyparsing>=2.3.1 in c:\\python\\lib\\site-packages (from matplotlib>=2.0.0->prophet) (3.1.2)\n",
      "Requirement already satisfied: pytz>=2020.1 in c:\\python\\lib\\site-packages (from pandas>=1.0.4->prophet) (2024.1)\n",
      "Requirement already satisfied: tzdata>=2022.7 in c:\\python\\lib\\site-packages (from pandas>=1.0.4->prophet) (2024.1)\n",
      "Requirement already satisfied: colorama in c:\\users\\user\\appdata\\roaming\\python\\python312\\site-packages (from tqdm>=4.36.1->prophet) (0.4.6)\n",
      "Requirement already satisfied: six>=1.5 in c:\\users\\user\\appdata\\roaming\\python\\python312\\site-packages (from python-dateutil->holidays>=0.25->prophet) (1.16.0)\n",
      "Note: you may need to restart the kernel to use updated packages.\n"
     ]
    }
   ],
   "source": [
    "pip install prophet"
   ]
  },
  {
   "cell_type": "code",
   "execution_count": 2,
   "metadata": {},
   "outputs": [],
   "source": [
    "import numpy as np"
   ]
  },
  {
   "cell_type": "code",
   "execution_count": 3,
   "metadata": {},
   "outputs": [
    {
     "data": {
      "text/plain": [
       "array([100,  80,  75,  77,  89,  33,  45,  25,  65,  17,  30,  24,  57,\n",
       "        55,  70,  75,  65,  84,  90, 150])"
      ]
     },
     "execution_count": 3,
     "metadata": {},
     "output_type": "execute_result"
    }
   ],
   "source": [
    "z = np.array([100, 80, 75, 77, 89, 33, 45, 25, 65, 17, 30, 24, 57, 55, 70, 75, 65, 84, 90, 150])\n",
    "z"
   ]
  },
  {
   "cell_type": "code",
   "execution_count": 4,
   "metadata": {},
   "outputs": [
    {
     "data": {
      "text/plain": [
       "(20,)"
      ]
     },
     "execution_count": 4,
     "metadata": {},
     "output_type": "execute_result"
    }
   ],
   "source": [
    "z.shape"
   ]
  },
  {
   "cell_type": "code",
   "execution_count": 5,
   "metadata": {},
   "outputs": [
    {
     "data": {
      "text/plain": [
       "array([100,  80,  75,  77,  89,  33,  45,  25,  65,  17,  30,  24,  57,\n",
       "        55,  70,  75,  65,  84,  90, 150])"
      ]
     },
     "execution_count": 5,
     "metadata": {},
     "output_type": "execute_result"
    }
   ],
   "source": [
    "z.sort\n",
    "z"
   ]
  },
  {
   "cell_type": "code",
   "execution_count": 6,
   "metadata": {},
   "outputs": [
    {
     "data": {
      "text/plain": [
       "23.5"
      ]
     },
     "execution_count": 6,
     "metadata": {},
     "output_type": "execute_result"
    }
   ],
   "source": [
    "(z[9]+z[10])/2"
   ]
  },
  {
   "cell_type": "markdown",
   "metadata": {},
   "source": [
    "## 2. В первом ящике находится 8 мячей, из которых 5 - белые. Во втором ящике - 12 мячей, из которых 5 белых. Из первого ящика вытаскивают случайным образом два мяча, из второго - 4. Какова вероятность того, что 3 мяча белые?"
   ]
  },
  {
   "cell_type": "markdown",
   "metadata": {},
   "source": [
    "Вероятность выбора первого белого меча \n",
    "\n",
    "$$ \\frac{5}{8}$$\n",
    "\n",
    "Вероятность выбора второго белог меча\n",
    "\n",
    "$$ \\frac{4}{7}$$\n",
    "\n",
    "Общая вероятностьпервого ящика\n",
    "\n",
    "$$ (\\frac{5}{8}) * (\\frac{4}{7})=\\frac{20}{56} = \\frac{5}{14} $$\n",
    "\n",
    "Вероятность выбора 1 мяча из второго ящика\n",
    "\n",
    "$$ \\frac{5}{12} $$\n",
    "\n",
    "Вероятность того что из пераого ящика вытащили 2 белых мча и из второго 1 белый мяч\n",
    "\n",
    "$$ (\\frac{5}{14}) * (\\frac{5}{12})=\\frac{25}{168}$$"
   ]
  },
  {
   "cell_type": "code",
   "execution_count": 8,
   "metadata": {},
   "outputs": [
    {
     "name": "stdout",
     "output_type": "stream",
     "text": [
      "Вероятность того, что из первого ящика вытащили два белых мяча и из второго один белый мяч: 0.14881\n"
     ]
    }
   ],
   "source": [
    "#import numpy as np\n",
    "\n",
    "# Вероятность выбора первого белого мяча из первого ящика\n",
    "p_first_white = 5/8\n",
    "\n",
    "# Вероятность выбора второго белого мяча из первого ящика\n",
    "# Учитывая, что один белый мяч уже выбран\n",
    "p_second_white_given_first = 4/7\n",
    "\n",
    "# Общая вероятность выбора двух белых мячей из первого ящика\n",
    "p_two_white_first_box = p_first_white * p_second_white_given_first\n",
    "\n",
    "# Вероятность выбора одного белого мяча из второго ящика\n",
    "p_one_white_second_box = 5/12\n",
    "\n",
    "# Вероятность того, что из первого ящика вытащили два белых мяча и из второго один белый мяч\n",
    "p_combined = p_two_white_first_box * p_one_white_second_box\n",
    "\n",
    "print(f\"Вероятность того, что из первого ящика вытащили два белых мяча и из второго один белый мяч: {p_combined:.5f}\")\n"
   ]
  },
  {
   "cell_type": "markdown",
   "metadata": {},
   "source": [
    "## 3. На соревновании по биатлону один из трех спортсменов стреляет и попадает в мишень. Вероятность попадания для первого спортсмена равна 0.9, для второго — 0.8, для третьего — 0.6. Найти вероятность того, что выстрел произведен: a). первым спортсменом б). вторым спортсменом в). третьим спортсменом"
   ]
  },
  {
   "cell_type": "markdown",
   "metadata": {},
   "source": [
    "Так как спортсмены стреляют с равной вероятностью, то \\( P(B_1) = P(B_2) = P(B_3) = \\frac{1}{3} \\).\n",
    "\n",
    "Вероятность попадания в мешень:\n",
    "$$ P(A) = \\frac{1}{3} \\cdot (0.9 + 0.8 + 0.6) = \\frac{1}{3} \\cdot 2.3 = 0.7667 $$\n",
    "\n",
    "**a).** Первым спортсменом:\n",
    "$$ P(B_1|A) = \\frac{\\frac{1}{3} \\cdot 0.9}{0.7667} \\approx 0.3922 $$\n",
    "\n",
    "**б).** Вторым спортсменом:\n",
    "$$ P(B_2|A) = \\frac{\\frac{1}{3} \\cdot 0.8}{0.7667} \\approx 0.3482 $$\n",
    "\n",
    "**в).** Третьим спортсменом:\n",
    "$$ P(B_3|A) = \\frac{\\frac{1}{3} \\cdot 0.6}{0.7667} \\approx 0.2611 $$\n",
    "\n",
    "- **a).** Первым спортсменом: **39.22%**\n",
    "- **б).** Вторым спортсменом: **34.82%**\n",
    "- **в).** Третьим спортсменом: **26.11%**"
   ]
  },
  {
   "cell_type": "code",
   "execution_count": 1,
   "metadata": {},
   "outputs": [
    {
     "name": "stdout",
     "output_type": "stream",
     "text": [
      "Вероятность, что выстрел произведен первым спортсменом: 0.39130\n",
      "Вероятность, что выстрел произведен вторым спортсменом: 0.34783\n",
      "Вероятность, что выстрел произведен третьим спортсменом: 0.26087\n"
     ]
    }
   ],
   "source": [
    "# Вероятности попадания для каждого спортсмена\n",
    "p_hit_1 = 0.9\n",
    "p_hit_2 = 0.8\n",
    "p_hit_3 = 0.6\n",
    "\n",
    "# Вероятности, что стреляет каждый спортсмен (равновероятно)\n",
    "p_shooter_1 = p_shooter_2 = p_shooter_3 = 1/3\n",
    "\n",
    "# Вероятность попадания в мишень\n",
    "p_hit = (p_hit_1 * p_shooter_1) + (p_hit_2 * p_shooter_2) + (p_hit_3 * p_shooter_3)\n",
    "\n",
    "# Вероятность, что стрелял первый спортсмен, при условии попадания\n",
    "p_1_given_hit = (p_hit_1 * p_shooter_1) / p_hit\n",
    "\n",
    "# Вероятность, что стрелял второй спортсмен, при условии попадания\n",
    "p_2_given_hit = (p_hit_2 * p_shooter_2) / p_hit\n",
    "\n",
    "# Вероятность, что стрелял третий спортсмен, при условии попадания\n",
    "p_3_given_hit = (p_hit_3 * p_shooter_3) / p_hit\n",
    "\n",
    "print(f\"Вероятность, что выстрел произведен первым спортсменом: {p_1_given_hit:.5f}\")\n",
    "print(f\"Вероятность, что выстрел произведен вторым спортсменом: {p_2_given_hit:.5f}\")\n",
    "print(f\"Вероятность, что выстрел произведен третьим спортсменом: {p_3_given_hit:.5f}\")\n"
   ]
  },
  {
   "cell_type": "markdown",
   "metadata": {},
   "source": [
    "## 4. В университет на факультеты A и B поступило равное количество студентов, а на факультет C студентов поступило столько же, сколько на A и B вместе. Вероятность того, что студент факультета A сдаст первую сессию, равна 0.8. Для студента факультета B эта вероятность равна 0.7, а для студента факультета C - 0.9. Студент сдал первую сессию. Какова вероятность, что он учится: a). на факультете A б). на факультете B в). на факультете C?"
   ]
  },
  {
   "cell_type": "markdown",
   "metadata": {},
   "source": []
  },
  {
   "cell_type": "code",
   "execution_count": 2,
   "metadata": {},
   "outputs": [
    {
     "name": "stdout",
     "output_type": "stream",
     "text": [
      "Вероятность, что студент учится на факультете A: 0.24242\n",
      "Вероятность, что студент учится на факультете B: 0.21212\n",
      "Вероятность, что студент учится на факультете C: 0.54545\n"
     ]
    }
   ],
   "source": [
    "\n",
    "# Вероятности сдачи сессии для студентов каждого факультета\n",
    "p_pass_A = 0.8\n",
    "p_pass_B = 0.7\n",
    "p_pass_C = 0.9\n",
    "\n",
    "# Вероятности, что студент с каждого факультета\n",
    "p_student_A = 1/4\n",
    "p_student_B = 1/4\n",
    "p_student_C = 1/2\n",
    "\n",
    "# Вероятность того, что студент сдал сессию\n",
    "p_pass = (p_pass_A * p_student_A) + (p_pass_B * p_student_B) + (p_pass_C * p_student_C)\n",
    "\n",
    "# Вероятности, что студент учится на факультете A, B или C, учитывая, что сессия сдана\n",
    "p_A_given_pass = (p_pass_A * p_student_A) / p_pass\n",
    "p_B_given_pass = (p_pass_B * p_student_B) / p_pass\n",
    "p_C_given_pass = (p_pass_C * p_student_C) / p_pass\n",
    "\n",
    "print(f\"Вероятность, что студент учится на факультете A: {p_A_given_pass:.5f}\")\n",
    "print(f\"Вероятность, что студент учится на факультете B: {p_B_given_pass:.5f}\")\n",
    "print(f\"Вероятность, что студент учится на факультете C: {p_C_given_pass:.5f}\")\n"
   ]
  },
  {
   "cell_type": "code",
   "execution_count": 3,
   "metadata": {},
   "outputs": [
    {
     "data": {
      "text/plain": [
       "0.825"
      ]
     },
     "execution_count": 3,
     "metadata": {},
     "output_type": "execute_result"
    }
   ],
   "source": [
    "A = 1/4 * 0.8 + 1/4 * 0.7 + 1/2 * 0.9\n",
    "A"
   ]
  },
  {
   "cell_type": "markdown",
   "metadata": {},
   "source": [
    "a). на факультете A"
   ]
  },
  {
   "cell_type": "code",
   "execution_count": 4,
   "metadata": {},
   "outputs": [
    {
     "data": {
      "text/plain": [
       "0.24242424242424246"
      ]
     },
     "execution_count": 4,
     "metadata": {},
     "output_type": "execute_result"
    }
   ],
   "source": [
    "(1/4 * 0.8) / A"
   ]
  },
  {
   "cell_type": "markdown",
   "metadata": {},
   "source": [
    "\n",
    "б). на факультете B"
   ]
  },
  {
   "cell_type": "code",
   "execution_count": 6,
   "metadata": {},
   "outputs": [
    {
     "data": {
      "text/plain": [
       "0.21212121212121213"
      ]
     },
     "execution_count": 6,
     "metadata": {},
     "output_type": "execute_result"
    }
   ],
   "source": [
    "\n",
    "(1/4 * 0.7) / A\n"
   ]
  },
  {
   "cell_type": "markdown",
   "metadata": {},
   "source": [
    "\n",
    "в). на факультете C"
   ]
  },
  {
   "cell_type": "code",
   "execution_count": 7,
   "metadata": {},
   "outputs": [
    {
     "data": {
      "text/plain": [
       "0.5454545454545455"
      ]
     },
     "execution_count": 7,
     "metadata": {},
     "output_type": "execute_result"
    }
   ],
   "source": [
    "\n",
    "(1/2 * 0.9) / A\n"
   ]
  },
  {
   "cell_type": "markdown",
   "metadata": {},
   "source": [
    "## 5. Устройство состоит из трех деталей. Для первой детали вероятность выйти из строя в первый месяц равна 0.1, для второй - 0.2, для третьей - 0.25. Какова вероятность того, что в первый месяц выйдут из строя: а). все детали б). только две детали в). хотя бы одна деталь г). от одной до двух деталей?"
   ]
  },
  {
   "cell_type": "code",
   "execution_count": 19,
   "metadata": {},
   "outputs": [
    {
     "name": "stdout",
     "output_type": "stream",
     "text": [
      "Вероятность того, что все детали выйдут из строя: 0.005000000000000001\n",
      "Вероятность того, что только две детали выйдут из строя: 0.08000000000000002\n",
      "Вероятность того, что хотя бы одна деталь выйдет из строя: 0.45999999999999996\n",
      "Вероятность того, что выйдут из строя от одной до двух деталей: 0.455\n"
     ]
    }
   ],
   "source": [
    "# Вероятности выхода из строя для каждой детали\n",
    "p1 = 0.1  # Для первой детали\n",
    "p2 = 0.2  # Для второй детали\n",
    "p3 = 0.25 # Для третьей детали\n",
    "\n",
    "# а) Вероятность того, что все детали выйдут из строя\n",
    "p_all_fail = p1 * p2 * p3\n",
    "\n",
    "# б) Вероятность того, что только две детали выйдут из строя\n",
    "p_two_fail = (p1 * p2 * (1 - p3)) + (p1 * (1 - p2) * p3) + ((1 - p1) * p2 * p3)\n",
    "\n",
    "# в) Вероятность того, что хотя бы одна деталь выйдет из строя\n",
    "p_at_least_one_fail = 1 - ((1 - p1) * (1 - p2) * (1 - p3))\n",
    "\n",
    "# г) Вероятность того, что выйдут из строя от одной до двух деталей\n",
    "# Сначала рассчитаем вероятность выхода из строя ровно одной детали\n",
    "p_one_fail = (p1 * (1 - p2) * (1 - p3)) + ((1 - p1) * p2 * (1 - p3)) + ((1 - p1) * (1 - p2) * p3)\n",
    "# Теперь суммируем вероятности для одной и двух деталей\n",
    "p_one_to_two_fail = p_one_fail + p_two_fail\n",
    "\n",
    "# Выводим результаты\n",
    "print(f\"Вероятность того, что все детали выйдут из строя: {p_all_fail}\")\n",
    "print(f\"Вероятность того, что только две детали выйдут из строя: {p_two_fail}\")\n",
    "print(f\"Вероятность того, что хотя бы одна деталь выйдет из строя: {p_at_least_one_fail}\")\n",
    "print(f\"Вероятность того, что выйдут из строя от одной до двух деталей: {p_one_to_two_fail}\")\n"
   ]
  }
 ],
 "metadata": {
  "kernelspec": {
   "display_name": "Python 3",
   "language": "python",
   "name": "python3"
  },
  "language_info": {
   "codemirror_mode": {
    "name": "ipython",
    "version": 3
   },
   "file_extension": ".py",
   "mimetype": "text/x-python",
   "name": "python",
   "nbconvert_exporter": "python",
   "pygments_lexer": "ipython3",
   "version": "3.12.4"
  }
 },
 "nbformat": 4,
 "nbformat_minor": 2
}
